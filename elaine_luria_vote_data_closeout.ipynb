{
  "nbformat": 4,
  "nbformat_minor": 0,
  "metadata": {
    "colab": {
      "name": "elaine_luria_vote_data_closeout.ipynb",
      "provenance": [],
      "authorship_tag": "ABX9TyM7RXBe1Ooz4TmSIFPQzhcm"
    },
    "kernelspec": {
      "name": "python3",
      "display_name": "Python 3"
    }
  },
  "cells": [
    {
      "cell_type": "markdown",
      "metadata": {
        "id": "697Qp-BKeS1I"
      },
      "source": [
        "**Elaine Luria Voter Data Closeout**"
      ]
    },
    {
      "cell_type": "code",
      "metadata": {
        "id": "MxJAMsn7eJBe"
      },
      "source": [
        "import pandas as pd\n",
        "import requests\n",
        "import json\n",
        "import time"
      ],
      "execution_count": 8,
      "outputs": []
    },
    {
      "cell_type": "code",
      "metadata": {
        "id": "R48SyLgseP24",
        "colab": {
          "base_uri": "https://localhost:8080/"
        },
        "outputId": "6f284928-89d1-487e-ad6e-fbefa0fe8def"
      },
      "source": [
        "#Parse all counties associated with VA 02\n",
        "house_district = '02'\n",
        "counties = []\n",
        "path = \"https://results.elections.virginia.gov/vaelections/2020%20November%20General/Json/Member_House_of_Representatives_({}).json\".format(house_district)\n",
        "\n",
        "r = requests.get(path)\n",
        "\n",
        "county_data = json.loads(r.text)\n",
        "for locality in county_data['Localities']:\n",
        "    counties.append(locality['Locality']['LocalityName'])\n",
        "\n",
        "print(counties)"
      ],
      "execution_count": 7,
      "outputs": [
        {
          "output_type": "stream",
          "text": [
            "['ACCOMACK COUNTY', 'HAMPTON CITY', 'JAMES CITY COUNTY', 'NEWPORT NEWS CITY', 'NORFOLK CITY', 'NORTHAMPTON COUNTY', 'POQUOSON CITY', 'VIRGINIA BEACH CITY', 'WILLIAMSBURG CITY', 'YORK COUNTY']\n"
          ],
          "name": "stdout"
        }
      ]
    },
    {
      "cell_type": "code",
      "metadata": {
        "colab": {
          "base_uri": "https://localhost:8080/",
          "height": 402
        },
        "id": "BZbfD14QjzNh",
        "outputId": "bc19ce7b-72e6-452e-a4b0-2fab5ca7b9da"
      },
      "source": [
        "#iterate through counties in district and pull data for each precinct into list of dictionaries\n",
        "precinct_list_of_dict = []\n",
        "luria_name = 'Elaine G. Luria'\n",
        "taylor_name = 'Scott W. Taylor'\n",
        "\n",
        "site_source = 'https://results.elections.virginia.gov/'\n",
        "for county.replace(' ', '_') in counties:\n",
        "    p_dict = {}\n",
        "    house_county_path = 'vaelections/2020%20November%20General/Json/Locality/{}/Member_House_of_Representatives_({}).json'.format(county, house_district)\n",
        "    pres_county_path = 'vaelections/2020%20November%20General/Json/Locality/{}/President_and_Vice_President.json'.format(county)\n",
        "    \n",
        "    house_path = site_source + house_county_path\n",
        "    print(house_path)\n",
        "    pres_path = site_source + pres_county_path\n",
        "\n",
        "    #iterate through house precinct data\n",
        "    r = requests.get(house_path)\n",
        "    print(r)\n",
        "    precinct_data = json.loads(r.text)\n",
        "\n",
        "    for p in precinct_data['Precincts']:\n",
        "        p_dict['Precinct'] = p['PrecinctName'][-5]\n",
        "        p_dict['State Senate District'] = ''\n",
        "        p_dict['House District'] = ''\n",
        "        p_dict['County/Locality'] = county\n",
        "\n",
        "        for i in range(len(p['Candidates'])):\n",
        "            if p['Candidates'][i]['BallotName'] == taylor_name:\n",
        "                p_dict['Taylor Votes'] = p['Candidates'][i]['Votes']\n",
        "                p_dict['Taylor Percentage'] = p['Candidates'][i]['Percentage']\n",
        "            elif p['Candidates'][i]['BallotName'] == luria_name:\n",
        "                p_dict['Luria Votes'] = p['Candidates'][i]['Votes']\n",
        "                p_dict['Luria Percentage'] = p['Candidates'][i]['Percentage']\n",
        "\n",
        "    precinct_list_of_dict.append(p_dict)\n",
        "    time.sleep(.5)\n",
        "\n",
        "for item in precinct_list_of_dict:\n",
        "    print(item)     "
      ],
      "execution_count": 12,
      "outputs": [
        {
          "output_type": "stream",
          "text": [
            "https://results.elections.virginia.gov/vaelections/2020%20November%20General/Json/Locality/ACCOMACK COUNTY/Member_House_of_Representatives_(02).json\n",
            "<Response [404]>\n"
          ],
          "name": "stdout"
        },
        {
          "output_type": "error",
          "ename": "JSONDecodeError",
          "evalue": "ignored",
          "traceback": [
            "\u001b[0;31m---------------------------------------------------------------------------\u001b[0m",
            "\u001b[0;31mJSONDecodeError\u001b[0m                           Traceback (most recent call last)",
            "\u001b[0;32m<ipython-input-12-d26434e25245>\u001b[0m in \u001b[0;36m<module>\u001b[0;34m()\u001b[0m\n\u001b[1;32m     17\u001b[0m     \u001b[0mr\u001b[0m \u001b[0;34m=\u001b[0m \u001b[0mrequests\u001b[0m\u001b[0;34m.\u001b[0m\u001b[0mget\u001b[0m\u001b[0;34m(\u001b[0m\u001b[0mhouse_path\u001b[0m\u001b[0;34m)\u001b[0m\u001b[0;34m\u001b[0m\u001b[0;34m\u001b[0m\u001b[0m\n\u001b[1;32m     18\u001b[0m     \u001b[0mprint\u001b[0m\u001b[0;34m(\u001b[0m\u001b[0mr\u001b[0m\u001b[0;34m)\u001b[0m\u001b[0;34m\u001b[0m\u001b[0;34m\u001b[0m\u001b[0m\n\u001b[0;32m---> 19\u001b[0;31m     \u001b[0mprecinct_data\u001b[0m \u001b[0;34m=\u001b[0m \u001b[0mjson\u001b[0m\u001b[0;34m.\u001b[0m\u001b[0mloads\u001b[0m\u001b[0;34m(\u001b[0m\u001b[0mr\u001b[0m\u001b[0;34m.\u001b[0m\u001b[0mtext\u001b[0m\u001b[0;34m)\u001b[0m\u001b[0;34m\u001b[0m\u001b[0;34m\u001b[0m\u001b[0m\n\u001b[0m\u001b[1;32m     20\u001b[0m \u001b[0;34m\u001b[0m\u001b[0m\n\u001b[1;32m     21\u001b[0m     \u001b[0;32mfor\u001b[0m \u001b[0mp\u001b[0m \u001b[0;32min\u001b[0m \u001b[0mprecinct_data\u001b[0m\u001b[0;34m[\u001b[0m\u001b[0;34m'Precincts'\u001b[0m\u001b[0;34m]\u001b[0m\u001b[0;34m:\u001b[0m\u001b[0;34m\u001b[0m\u001b[0;34m\u001b[0m\u001b[0m\n",
            "\u001b[0;32m/usr/lib/python3.6/json/__init__.py\u001b[0m in \u001b[0;36mloads\u001b[0;34m(s, encoding, cls, object_hook, parse_float, parse_int, parse_constant, object_pairs_hook, **kw)\u001b[0m\n\u001b[1;32m    352\u001b[0m             \u001b[0mparse_int\u001b[0m \u001b[0;32mis\u001b[0m \u001b[0;32mNone\u001b[0m \u001b[0;32mand\u001b[0m \u001b[0mparse_float\u001b[0m \u001b[0;32mis\u001b[0m \u001b[0;32mNone\u001b[0m \u001b[0;32mand\u001b[0m\u001b[0;34m\u001b[0m\u001b[0;34m\u001b[0m\u001b[0m\n\u001b[1;32m    353\u001b[0m             parse_constant is None and object_pairs_hook is None and not kw):\n\u001b[0;32m--> 354\u001b[0;31m         \u001b[0;32mreturn\u001b[0m \u001b[0m_default_decoder\u001b[0m\u001b[0;34m.\u001b[0m\u001b[0mdecode\u001b[0m\u001b[0;34m(\u001b[0m\u001b[0ms\u001b[0m\u001b[0;34m)\u001b[0m\u001b[0;34m\u001b[0m\u001b[0;34m\u001b[0m\u001b[0m\n\u001b[0m\u001b[1;32m    355\u001b[0m     \u001b[0;32mif\u001b[0m \u001b[0mcls\u001b[0m \u001b[0;32mis\u001b[0m \u001b[0;32mNone\u001b[0m\u001b[0;34m:\u001b[0m\u001b[0;34m\u001b[0m\u001b[0;34m\u001b[0m\u001b[0m\n\u001b[1;32m    356\u001b[0m         \u001b[0mcls\u001b[0m \u001b[0;34m=\u001b[0m \u001b[0mJSONDecoder\u001b[0m\u001b[0;34m\u001b[0m\u001b[0;34m\u001b[0m\u001b[0m\n",
            "\u001b[0;32m/usr/lib/python3.6/json/decoder.py\u001b[0m in \u001b[0;36mdecode\u001b[0;34m(self, s, _w)\u001b[0m\n\u001b[1;32m    337\u001b[0m \u001b[0;34m\u001b[0m\u001b[0m\n\u001b[1;32m    338\u001b[0m         \"\"\"\n\u001b[0;32m--> 339\u001b[0;31m         \u001b[0mobj\u001b[0m\u001b[0;34m,\u001b[0m \u001b[0mend\u001b[0m \u001b[0;34m=\u001b[0m \u001b[0mself\u001b[0m\u001b[0;34m.\u001b[0m\u001b[0mraw_decode\u001b[0m\u001b[0;34m(\u001b[0m\u001b[0ms\u001b[0m\u001b[0;34m,\u001b[0m \u001b[0midx\u001b[0m\u001b[0;34m=\u001b[0m\u001b[0m_w\u001b[0m\u001b[0;34m(\u001b[0m\u001b[0ms\u001b[0m\u001b[0;34m,\u001b[0m \u001b[0;36m0\u001b[0m\u001b[0;34m)\u001b[0m\u001b[0;34m.\u001b[0m\u001b[0mend\u001b[0m\u001b[0;34m(\u001b[0m\u001b[0;34m)\u001b[0m\u001b[0;34m)\u001b[0m\u001b[0;34m\u001b[0m\u001b[0;34m\u001b[0m\u001b[0m\n\u001b[0m\u001b[1;32m    340\u001b[0m         \u001b[0mend\u001b[0m \u001b[0;34m=\u001b[0m \u001b[0m_w\u001b[0m\u001b[0;34m(\u001b[0m\u001b[0ms\u001b[0m\u001b[0;34m,\u001b[0m \u001b[0mend\u001b[0m\u001b[0;34m)\u001b[0m\u001b[0;34m.\u001b[0m\u001b[0mend\u001b[0m\u001b[0;34m(\u001b[0m\u001b[0;34m)\u001b[0m\u001b[0;34m\u001b[0m\u001b[0;34m\u001b[0m\u001b[0m\n\u001b[1;32m    341\u001b[0m         \u001b[0;32mif\u001b[0m \u001b[0mend\u001b[0m \u001b[0;34m!=\u001b[0m \u001b[0mlen\u001b[0m\u001b[0;34m(\u001b[0m\u001b[0ms\u001b[0m\u001b[0;34m)\u001b[0m\u001b[0;34m:\u001b[0m\u001b[0;34m\u001b[0m\u001b[0;34m\u001b[0m\u001b[0m\n",
            "\u001b[0;32m/usr/lib/python3.6/json/decoder.py\u001b[0m in \u001b[0;36mraw_decode\u001b[0;34m(self, s, idx)\u001b[0m\n\u001b[1;32m    355\u001b[0m             \u001b[0mobj\u001b[0m\u001b[0;34m,\u001b[0m \u001b[0mend\u001b[0m \u001b[0;34m=\u001b[0m \u001b[0mself\u001b[0m\u001b[0;34m.\u001b[0m\u001b[0mscan_once\u001b[0m\u001b[0;34m(\u001b[0m\u001b[0ms\u001b[0m\u001b[0;34m,\u001b[0m \u001b[0midx\u001b[0m\u001b[0;34m)\u001b[0m\u001b[0;34m\u001b[0m\u001b[0;34m\u001b[0m\u001b[0m\n\u001b[1;32m    356\u001b[0m         \u001b[0;32mexcept\u001b[0m \u001b[0mStopIteration\u001b[0m \u001b[0;32mas\u001b[0m \u001b[0merr\u001b[0m\u001b[0;34m:\u001b[0m\u001b[0;34m\u001b[0m\u001b[0;34m\u001b[0m\u001b[0m\n\u001b[0;32m--> 357\u001b[0;31m             \u001b[0;32mraise\u001b[0m \u001b[0mJSONDecodeError\u001b[0m\u001b[0;34m(\u001b[0m\u001b[0;34m\"Expecting value\"\u001b[0m\u001b[0;34m,\u001b[0m \u001b[0ms\u001b[0m\u001b[0;34m,\u001b[0m \u001b[0merr\u001b[0m\u001b[0;34m.\u001b[0m\u001b[0mvalue\u001b[0m\u001b[0;34m)\u001b[0m \u001b[0;32mfrom\u001b[0m \u001b[0;32mNone\u001b[0m\u001b[0;34m\u001b[0m\u001b[0;34m\u001b[0m\u001b[0m\n\u001b[0m\u001b[1;32m    358\u001b[0m         \u001b[0;32mreturn\u001b[0m \u001b[0mobj\u001b[0m\u001b[0;34m,\u001b[0m \u001b[0mend\u001b[0m\u001b[0;34m\u001b[0m\u001b[0;34m\u001b[0m\u001b[0m\n",
            "\u001b[0;31mJSONDecodeError\u001b[0m: Expecting value: line 1 column 1 (char 0)"
          ]
        }
      ]
    },
    {
      "cell_type": "code",
      "metadata": {
        "id": "-YTy9wMUjzD7"
      },
      "source": [
        "#Convert list of dictionaries into pandas dataframe"
      ],
      "execution_count": null,
      "outputs": []
    },
    {
      "cell_type": "code",
      "metadata": {
        "id": "4bVsug75jyzC"
      },
      "source": [
        "#"
      ],
      "execution_count": null,
      "outputs": []
    },
    {
      "cell_type": "code",
      "metadata": {
        "id": "7BqnBdzSfVbr"
      },
      "source": [
        "export_cols = [\"Precinct\",\n",
        "               \"State Senate District\",\t\n",
        "               \"House District\",\n",
        "               \"County/Locality\",\n",
        "               \"Taylor Votes\",\n",
        "               \"Taylor Percentage\",\n",
        "               \"Luria Votes\",\n",
        "               \"Luria Percentage\",\n",
        "               \"Trump Votes\",\n",
        "               \"Trump Percentage\",\n",
        "               \"Biden Votes\",\n",
        "               \"Biden Percentage\"]"
      ],
      "execution_count": null,
      "outputs": []
    }
  ]
}